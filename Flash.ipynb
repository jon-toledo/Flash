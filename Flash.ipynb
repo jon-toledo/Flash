{
 "cells": [
  {
   "cell_type": "markdown",
   "metadata": {},
   "source": [
    "# FLASH:   A neural network for climbing route recognition "
   ]
  },
  {
   "cell_type": "markdown",
   "metadata": {},
   "source": [
    "### by Jon Toledo "
   ]
  },
  {
   "cell_type": "markdown",
   "metadata": {},
   "source": [
    "# Introduction "
   ]
  },
  {
   "cell_type": "markdown",
   "metadata": {},
   "source": [
    "Flash is a neural network which classifies images of climbing routes.  The network is trained using about 200 images of each route from various positions.  The challenge is then to identify new images taken from arbirary positions and under arbitrary conditions (weather, time of day, season).\n",
    "\n",
    "The first step is just to concentrate on training data and testing data collected on the same day, but independently by different people from different positions.  This is a fairly simple problem of image recognition, and excellent results of 99% can be achieved with simple versions of standard architecture.  \n",
    "\n",
    "Of course one will eventually need to ensure generalization to different conditions (e.g. weather, time of day, season).  It is not practical to collect training data under all possible conditions, so we need to design a neural network which focuses on the qualities of the route which are invariant under these changes. For this, image pre-processing will play a key role."
   ]
  },
  {
   "cell_type": "markdown",
   "metadata": {},
   "source": [
    "# Data "
   ]
  },
  {
   "cell_type": "markdown",
   "metadata": {},
   "source": [
    "I choose 4 different climbing routes in a popular sector of the local climbing area Mount Nemo. Lets call them route 1, ...., route 4. I took 200 pictures of each route from various angles -- this constituted the training set. My wife then took around 50 pictures of each route from various positions of her own choosing -- this constituted the test set. We repeated this procedure on two different days\n",
    "\n",
    "* Day 1 conditions:  Cloudy, early afternoon\n",
    "* Day 2 conditions:  Full sun, late afternoon\n",
    "\n",
    "The goal is to train a neural network that would correctly classify the images in the test sets taken on the two days, using training data from *only one* data set."
   ]
  },
  {
   "cell_type": "markdown",
   "metadata": {},
   "source": [
    "# Libraries and packages "
   ]
  },
  {
   "cell_type": "code",
   "execution_count": 1,
   "metadata": {},
   "outputs": [
    {
     "name": "stderr",
     "output_type": "stream",
     "text": [
      "Using TensorFlow backend.\n"
     ]
    }
   ],
   "source": [
    "# Importing keras libraries and packages\n",
    "from keras.models import Sequential\n",
    "from keras.layers import Conv2D\n",
    "from keras.layers import MaxPooling2D\n",
    "from keras.layers import Flatten\n",
    "from keras.layers import Dense\n",
    "from keras import regularizers\n",
    "\n",
    "from keras.preprocessing import image\n",
    "from keras.utils.vis_utils import plot_model\n",
    "\n",
    "import numpy as np\n",
    "import matplotlib.pyplot as plt"
   ]
  },
  {
   "cell_type": "markdown",
   "metadata": {},
   "source": [
    "#  Neural Network "
   ]
  },
  {
   "cell_type": "markdown",
   "metadata": {},
   "source": [
    "A big challenge we face in this problem is that the training data is highly correlated.  After all, for each route we are simply taking pictures of the same route from many positions.  Recall that we want to train the network on data collected on a single day in a short time period (consistent conditions).  This means that overfitting will be a serious risk, and we will be limited to deal with fairly shallow networks with a small number of nodes.  At the same time, we will want to be able to recognize images of routes under generic conditions and so the network must be sufficiently complex.  So far image pre-processing has been out main tool for acheiving sufficient complexity without overfitting.  "
   ]
  },
  {
   "cell_type": "markdown",
   "metadata": {},
   "source": [
    "## Training the network "
   ]
  },
  {
   "cell_type": "code",
   "execution_count": 14,
   "metadata": {},
   "outputs": [
    {
     "name": "stdout",
     "output_type": "stream",
     "text": [
      "Found 560 images belonging to 4 classes.\n",
      "Found 239 images belonging to 4 classes.\n"
     ]
    }
   ],
   "source": [
    "data_foulder = 'dataset_2'\n",
    "im_dim = 64;\n",
    "\n",
    "num_conv_lay = 2;\n",
    "num_brain_lay = 20;\n",
    "\n",
    "# Initialize the Convolution Neural Network (CNN)\n",
    "classifier = Sequential()\n",
    "\n",
    "# step 1&2 -- convolution and pooling\n",
    "classifier.add(Conv2D(num_conv_lay,(3,3), input_shape = (im_dim, im_dim, 3), activation = 'relu'))\n",
    "classifier.add(MaxPooling2D(pool_size = (2,2)))\n",
    "\n",
    "# step 3 -- Flattening\n",
    "classifier.add(Flatten())\n",
    "\n",
    "# step 4 -- Fully connected layers\n",
    "classifier.add(Dense(units = num_brain_lay, activation = 'relu'))\n",
    "classifier.add(Dense(units = 4, activation = 'softmax'))\n",
    "\n",
    "# Compiling the CNN\n",
    "classifier.compile(optimizer = 'adam', loss = 'categorical_crossentropy',\n",
    "                  metrics = ['accuracy'])\n",
    "\n",
    "# Fitting the CNN to the images\n",
    "from keras.preprocessing.image import ImageDataGenerator\n",
    "\n",
    "def avg_norm(img):\n",
    "    '''renormalize average pixel value to 1'''\n",
    "    return img/np.mean(img)\n",
    "\n",
    "train_datagen = ImageDataGenerator(rescale = 1./255,\n",
    "                                   shear_range = 0.2,\n",
    "                                   zoom_range = 0.2,\n",
    "                                   preprocessing_function = avg_norm)\n",
    "\n",
    "valid_datagen = ImageDataGenerator(rescale = 1./255,\n",
    "                                   preprocessing_function = avg_norm)\n",
    "\n",
    "training_set = train_datagen.flow_from_directory(data_foulder+'/training_set/data_sub',\n",
    "                                            target_size = (im_dim, im_dim),\n",
    "                                            batch_size = 10,    \n",
    "                                            class_mode = 'categorical')\n",
    "\n",
    "validation_set = valid_datagen.flow_from_directory(data_foulder+'/validation_set',\n",
    "                                            target_size = (im_dim, im_dim),\n",
    "                                            batch_size = 10,\n",
    "                                            class_mode = 'categorical')"
   ]
  },
  {
   "cell_type": "code",
   "execution_count": 15,
   "metadata": {
    "scrolled": true
   },
   "outputs": [
    {
     "data": {
      "text/plain": [
       "<matplotlib.image.AxesImage at 0x129168690>"
      ]
     },
     "execution_count": 15,
     "metadata": {},
     "output_type": "execute_result"
    },
    {
     "data": {
      "image/png": "[encoded data removed]",
      "text/plain": [
       "<Figure size 360x360 with 1 Axes>"
      ]
     },
     "metadata": {},
     "output_type": "display_data"
    }
   ],
   "source": [
    "plt.rcParams['figure.figsize'] = 5, 5\n",
    "temp = image.load_img('dataset_2/test_set/test_r2/IMG_3582.jpg', target_size = (im_dim, im_dim))\n",
    "plt.imshow(temp, cmap='gray')"
   ]
  },
  {
   "cell_type": "code",
   "execution_count": 16,
   "metadata": {},
   "outputs": [],
   "source": [
    "# plt.rcParams['figure.figsize'] = 10, 30\n",
    "# plot_model(classifier, to_file='model_plot.png', show_shapes=True, show_layer_names=True)\n",
    "# temp = image.load_img('model_plot.png')\n",
    "# plt.imshow(temp)"
   ]
  },
  {
   "cell_type": "code",
   "execution_count": 17,
   "metadata": {},
   "outputs": [
    {
     "name": "stdout",
     "output_type": "stream",
     "text": [
      "Epoch 1/6\n",
      "100/100 [==============================] - 196s 2s/step - loss: 1.2678 - acc: 0.5950 - val_loss: 1.0194 - val_acc: 0.9331\n",
      "Epoch 2/6\n",
      "100/100 [==============================] - 174s 2s/step - loss: 0.6959 - acc: 0.9430 - val_loss: 0.3613 - val_acc: 0.9916\n",
      "Epoch 3/6\n",
      "100/100 [==============================] - 174s 2s/step - loss: 0.2527 - acc: 0.9920 - val_loss: 0.1426 - val_acc: 0.9916\n",
      "Epoch 4/6\n",
      "100/100 [==============================] - 175s 2s/step - loss: 0.1191 - acc: 0.9890 - val_loss: 0.0658 - val_acc: 1.0000\n",
      "Epoch 5/6\n",
      "100/100 [==============================] - 177s 2s/step - loss: 0.0679 - acc: 0.9910 - val_loss: 0.0416 - val_acc: 0.9958\n",
      "Epoch 6/6\n",
      "100/100 [==============================] - 188s 2s/step - loss: 0.0515 - acc: 0.9910 - val_loss: 0.0258 - val_acc: 1.0000\n"
     ]
    },
    {
     "data": {
      "text/plain": [
       "<keras.callbacks.History at 0xb2f506790>"
      ]
     },
     "execution_count": 17,
     "metadata": {},
     "output_type": "execute_result"
    }
   ],
   "source": [
    "classifier.fit_generator(training_set,\n",
    "                         steps_per_epoch = 100,\n",
    "                         epochs = 6,\n",
    "                         validation_data = validation_set,\n",
    "                         validation_steps = 20)"
   ]
  },
  {
   "cell_type": "markdown",
   "metadata": {},
   "source": [
    "## Testing the network "
   ]
  },
  {
   "cell_type": "code",
   "execution_count": 18,
   "metadata": {
    "scrolled": false
   },
   "outputs": [
    {
     "name": "stdout",
     "output_type": "stream",
     "text": [
      "(2, 3, 'dataset_2/test_set/test_r2/IMG_3551.jpg')\n",
      "(2, 3, 'dataset_2/test_set/test_r2/IMG_3586.jpg')\n",
      "(2, 3, 'dataset_2/test_set/test_r2/IMG_3552.jpg')\n",
      "(2, 3, 'dataset_2/test_set/test_r2/IMG_3577.jpg')\n",
      "0.985559566787\n"
     ]
    }
   ],
   "source": [
    "data_foulder = 'dataset_2'\n",
    "\n",
    "import os\n",
    "import numpy as np\n",
    "from keras.preprocessing import image\n",
    "\n",
    "def change_label(label):\n",
    "    if label == 0:\n",
    "        return 1\n",
    "    elif label == 1:\n",
    "        return 2\n",
    "    elif label == 2:\n",
    "        return 3\n",
    "    elif label == 3:\n",
    "        return 5\n",
    "\n",
    "routes = ['r1', 'r2', 'r3', 'r5']\n",
    "count_wrong = 0\n",
    "count_right = 0\n",
    "missclass_2=[]\n",
    "for route in routes:\n",
    "\n",
    "    test_images =  os.listdir(data_foulder + '/test_set/test_'+route)\n",
    "\n",
    "    for img in test_images:\n",
    "        \n",
    "        if img != '.DS_Store':\n",
    "        \n",
    "            test_image = image.load_img(data_foulder+'/test_set/test_'+route+'/'+img,target_size = (im_dim, im_dim))\n",
    "            test_image = image.img_to_array(test_image)\n",
    "            test_image = avg_norm(np.expand_dims(test_image, axis = 0))\n",
    "            result = change_label(np.argmax(classifier.predict(test_image)))\n",
    "        \n",
    "            if int(route[-1:]) != result:\n",
    "                count_wrong +=1\n",
    "                print (int(route[-1:]), result, data_foulder+'/test_set/test_'+route+'/'+img)\n",
    "                missclass_2.append(data_foulder+'/test_set/test_'+route+'/'+img)\n",
    "                \n",
    "            else:\n",
    "                count_right +=1\n",
    "            \n",
    "print 1-float(count_wrong)/(count_right+count_wrong)"
   ]
  },
  {
   "cell_type": "code",
   "execution_count": 19,
   "metadata": {},
   "outputs": [
    {
     "name": "stdout",
     "output_type": "stream",
     "text": [
      "(2, 5, 'dataset/test_set/test_r2/te_r2_3.jpg')\n",
      "(2, 5, 'dataset/test_set/test_r2/te_r2_1.jpg')\n",
      "(2, 5, 'dataset/test_set/test_r2/te_r2_0.jpg')\n",
      "(2, 5, 'dataset/test_set/test_r2/te_r2_5.jpg')\n",
      "(2, 5, 'dataset/test_set/test_r2/te_r2_7.jpg')\n",
      "(2, 5, 'dataset/test_set/test_r2/te_r2_6.jpg')\n",
      "(2, 5, 'dataset/test_set/test_r2/te_r2_21.jpg')\n",
      "(2, 5, 'dataset/test_set/test_r2/te_r2_20.jpg')\n",
      "(2, 5, 'dataset/test_set/test_r2/te_r2_22.jpg')\n",
      "(2, 5, 'dataset/test_set/test_r2/te_r2_23.jpg')\n",
      "(2, 5, 'dataset/test_set/test_r2/te_r2_14.jpg')\n",
      "(2, 5, 'dataset/test_set/test_r2/te_r2_16.jpg')\n",
      "(2, 5, 'dataset/test_set/test_r2/te_r2_12.jpg')\n",
      "(2, 5, 'dataset/test_set/test_r2/te_r2_13.jpg')\n",
      "(2, 5, 'dataset/test_set/test_r2/te_r2_11.jpg')\n",
      "(2, 5, 'dataset/test_set/test_r2/te_r2_10.jpg')\n",
      "(2, 5, 'dataset/test_set/test_r2/te_r2_8.jpg')\n",
      "(2, 5, 'dataset/test_set/test_r2/te_r2_9.jpg')\n",
      "(3, 2, 'dataset/test_set/test_r3/te_r3_16.jpg')\n",
      "(3, 2, 'dataset/test_set/test_r3/te_r3_17.jpg')\n",
      "(3, 2, 'dataset/test_set/test_r3/te_r3_4.jpg')\n",
      "(3, 2, 'dataset/test_set/test_r3/te_r3_9.jpg')\n",
      "(3, 1, 'dataset/test_set/test_r3/te_r3_18.jpg')\n",
      "0.805084745763\n"
     ]
    }
   ],
   "source": [
    "data_foulder = 'dataset'\n",
    "\n",
    "routes = ['r1', 'r2', 'r3', 'r5']\n",
    "count_wrong = 0\n",
    "count_right = 0\n",
    "missclass=[]\n",
    "for route in routes:\n",
    "\n",
    "    test_images =  os.listdir(data_foulder + '/test_set/test_'+route)\n",
    "\n",
    "    for img in test_images:\n",
    "        \n",
    "        if img != '.DS_Store':\n",
    "        \n",
    "            test_image = image.load_img(data_foulder+'/test_set/test_'+route+'/'+img,target_size = (im_dim, im_dim))\n",
    "            test_image = image.img_to_array(test_image)\n",
    "            test_image = avg_norm(np.expand_dims(test_image, axis = 0))\n",
    "            result = change_label(np.argmax(classifier.predict(test_image)))\n",
    "        \n",
    "            if int(route[-1:]) != result:\n",
    "                count_wrong +=1\n",
    "                print (int(route[-1:]), result, data_foulder+'/test_set/test_'+route+'/'+img)\n",
    "                missclass.append(data_foulder+'/test_set/test_'+route+'/'+img)\n",
    "                \n",
    "            else:\n",
    "                count_right +=1\n",
    "            \n",
    "print 1-float(count_wrong)/(count_right+count_wrong)"
   ]
  },
  {
   "cell_type": "markdown",
   "metadata": {},
   "source": [
    "# Analysis of results"
   ]
  },
  {
   "cell_type": "markdown",
   "metadata": {},
   "source": [
    "# Conclusions and future work"
   ]
  },
  {
   "cell_type": "code",
   "execution_count": null,
   "metadata": {},
   "outputs": [],
   "source": []
  }
 ],
 "metadata": {
  "kernelspec": {
   "display_name": "Python 2",
   "language": "python",
   "name": "python2"
  },
  "language_info": {
   "codemirror_mode": {
    "name": "ipython",
    "version": 2
   },
   "file_extension": ".py",
   "mimetype": "text/x-python",
   "name": "python",
   "nbconvert_exporter": "python",
   "pygments_lexer": "ipython2",
   "version": "2.7.15"
  }
 },
 "nbformat": 4,
 "nbformat_minor": 2
}
